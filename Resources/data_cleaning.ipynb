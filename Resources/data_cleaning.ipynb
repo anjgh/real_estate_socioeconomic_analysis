{
 "cells": [
  {
   "cell_type": "code",
   "execution_count": 1,
   "metadata": {},
   "outputs": [],
   "source": [
    "import pandas as pd\n",
    "from pathlib import Path"
   ]
  },
  {
   "cell_type": "markdown",
   "metadata": {},
   "source": [
    "# Cleaned House Listings"
   ]
  },
  {
   "cell_type": "markdown",
   "metadata": {},
   "source": [
    "### Import house_listing.csv"
   ]
  },
  {
   "cell_type": "code",
   "execution_count": 2,
   "metadata": {},
   "outputs": [
    {
     "data": {
      "text/html": [
       "<div>\n",
       "<style scoped>\n",
       "    .dataframe tbody tr th:only-of-type {\n",
       "        vertical-align: middle;\n",
       "    }\n",
       "\n",
       "    .dataframe tbody tr th {\n",
       "        vertical-align: top;\n",
       "    }\n",
       "\n",
       "    .dataframe thead th {\n",
       "        text-align: right;\n",
       "    }\n",
       "</style>\n",
       "<table border=\"1\" class=\"dataframe\">\n",
       "  <thead>\n",
       "    <tr style=\"text-align: right;\">\n",
       "      <th></th>\n",
       "      <th>City</th>\n",
       "      <th>Price</th>\n",
       "      <th>Address</th>\n",
       "      <th>Number_Beds</th>\n",
       "      <th>Number_Baths</th>\n",
       "      <th>Province</th>\n",
       "      <th>Population</th>\n",
       "      <th>Latitude</th>\n",
       "      <th>Longitude</th>\n",
       "      <th>Median_Family_Income</th>\n",
       "    </tr>\n",
       "  </thead>\n",
       "  <tbody>\n",
       "    <tr>\n",
       "      <th>0</th>\n",
       "      <td>Toronto</td>\n",
       "      <td>779900</td>\n",
       "      <td>#318 -20 SOUTHPORT ST</td>\n",
       "      <td>3</td>\n",
       "      <td>2</td>\n",
       "      <td>Ontario</td>\n",
       "      <td>5647656</td>\n",
       "      <td>43.7417</td>\n",
       "      <td>-79.3733</td>\n",
       "      <td>97000.0</td>\n",
       "    </tr>\n",
       "    <tr>\n",
       "      <th>1</th>\n",
       "      <td>Toronto</td>\n",
       "      <td>799999</td>\n",
       "      <td>#818 -60 SOUTHPORT ST</td>\n",
       "      <td>3</td>\n",
       "      <td>1</td>\n",
       "      <td>Ontario</td>\n",
       "      <td>5647656</td>\n",
       "      <td>43.7417</td>\n",
       "      <td>-79.3733</td>\n",
       "      <td>97000.0</td>\n",
       "    </tr>\n",
       "    <tr>\n",
       "      <th>2</th>\n",
       "      <td>Toronto</td>\n",
       "      <td>799900</td>\n",
       "      <td>#714 -859 THE QUEENSWAY</td>\n",
       "      <td>2</td>\n",
       "      <td>2</td>\n",
       "      <td>Ontario</td>\n",
       "      <td>5647656</td>\n",
       "      <td>43.7417</td>\n",
       "      <td>-79.3733</td>\n",
       "      <td>97000.0</td>\n",
       "    </tr>\n",
       "    <tr>\n",
       "      <th>3</th>\n",
       "      <td>Toronto</td>\n",
       "      <td>1200000</td>\n",
       "      <td>275 MORTIMER AVE</td>\n",
       "      <td>4</td>\n",
       "      <td>2</td>\n",
       "      <td>Ontario</td>\n",
       "      <td>5647656</td>\n",
       "      <td>43.7417</td>\n",
       "      <td>-79.3733</td>\n",
       "      <td>97000.0</td>\n",
       "    </tr>\n",
       "    <tr>\n",
       "      <th>4</th>\n",
       "      <td>Toronto</td>\n",
       "      <td>668800</td>\n",
       "      <td>#420 -388 RICHMOND ST</td>\n",
       "      <td>1</td>\n",
       "      <td>1</td>\n",
       "      <td>Ontario</td>\n",
       "      <td>5647656</td>\n",
       "      <td>43.7417</td>\n",
       "      <td>-79.3733</td>\n",
       "      <td>97000.0</td>\n",
       "    </tr>\n",
       "  </tbody>\n",
       "</table>\n",
       "</div>"
      ],
      "text/plain": [
       "      City    Price                  Address  Number_Beds  Number_Baths  \\\n",
       "0  Toronto   779900    #318 -20 SOUTHPORT ST            3             2   \n",
       "1  Toronto   799999    #818 -60 SOUTHPORT ST            3             1   \n",
       "2  Toronto   799900  #714 -859 THE QUEENSWAY            2             2   \n",
       "3  Toronto  1200000         275 MORTIMER AVE            4             2   \n",
       "4  Toronto   668800    #420 -388 RICHMOND ST            1             1   \n",
       "\n",
       "  Province  Population  Latitude  Longitude  Median_Family_Income  \n",
       "0  Ontario     5647656   43.7417   -79.3733               97000.0  \n",
       "1  Ontario     5647656   43.7417   -79.3733               97000.0  \n",
       "2  Ontario     5647656   43.7417   -79.3733               97000.0  \n",
       "3  Ontario     5647656   43.7417   -79.3733               97000.0  \n",
       "4  Ontario     5647656   43.7417   -79.3733               97000.0  "
      ]
     },
     "execution_count": 2,
     "metadata": {},
     "output_type": "execute_result"
    }
   ],
   "source": [
    "house_listing_file = Path(\"resources/house_listings.csv\")\n",
    "house_listing_df = pd.read_csv(house_listing_file,encoding=\"ISO-8859-1\")\n",
    "house_listing_df.head()"
   ]
  },
  {
   "cell_type": "markdown",
   "metadata": {},
   "source": [
    "### Renaming and reordering columns, adjusting data tpyes, formatting address column, removing all listings with zero beds and/or baths"
   ]
  },
  {
   "cell_type": "code",
   "execution_count": 3,
   "metadata": {},
   "outputs": [],
   "source": [
    "#renaming columns of house_listing_df\n",
    "house_listing_df = house_listing_df.rename(columns={\n",
    "    \"City\":\"city\",\n",
    "    \"Price\":\"price\",\n",
    "    \"Address\":\"address\",\n",
    "    \"Number_Beds\":\"beds\",\n",
    "    \"Number_Baths\":\"baths\",\n",
    "    \"Province\":\"province\",\n",
    "    \"Population\":\"population\",\n",
    "    \"Latitude\":\"lat\",\n",
    "    \"Longitude\":\"lon\",\n",
    "    \"Median_Family_Income\":\"median_income\"\n",
    "    })\n",
    "\n",
    "#reorder the columns\n",
    "house_listing_df = house_listing_df[[\n",
    "    \"city\",\"province\",\"population\",\"median_income\",\"lat\",\"lon\",\"address\",\"price\",\"beds\",\"baths\"\n",
    "]]"
   ]
  },
  {
   "cell_type": "code",
   "execution_count": 4,
   "metadata": {},
   "outputs": [
    {
     "data": {
      "text/plain": [
       "city              object\n",
       "province          object\n",
       "population         int64\n",
       "median_income    float64\n",
       "lat              float64\n",
       "lon              float64\n",
       "address           object\n",
       "price              int64\n",
       "beds               int64\n",
       "baths              int64\n",
       "dtype: object"
      ]
     },
     "execution_count": 4,
     "metadata": {},
     "output_type": "execute_result"
    }
   ],
   "source": [
    "#check data types\n",
    "house_listing_df.dtypes"
   ]
  },
  {
   "cell_type": "code",
   "execution_count": 5,
   "metadata": {},
   "outputs": [
    {
     "data": {
      "text/plain": [
       "dtype('int64')"
      ]
     },
     "execution_count": 5,
     "metadata": {},
     "output_type": "execute_result"
    }
   ],
   "source": [
    "#change data type of Median_Family_Income from float to int64\n",
    "house_listing_df = house_listing_df.astype({'median_income':'int64'}, errors='raise')\n",
    "house_listing_df['median_income'].dtype"
   ]
  },
  {
   "cell_type": "code",
   "execution_count": 6,
   "metadata": {},
   "outputs": [],
   "source": [
    "#clean up the address column by stripping spaces and converting to lowercase\n",
    "house_listing_df['address'] = house_listing_df['address'].str.strip().str.lower()\n",
    "\n",
    "#for address column,change any occurence of #NAME? to unknown, regardless of case or extra spaces\n",
    "house_listing_df['address'] = house_listing_df['address'].str.replace(r'\\s*#name\\?\\s*','unknown', regex=True)"
   ]
  },
  {
   "cell_type": "code",
   "execution_count": 7,
   "metadata": {},
   "outputs": [],
   "source": [
    "#remove all cases where beds and/or baths are 0\n",
    "house_listing_df = house_listing_df[(house_listing_df['beds'] > 0) & (house_listing_df['baths'] > 0)]"
   ]
  },
  {
   "cell_type": "code",
   "execution_count": 8,
   "metadata": {},
   "outputs": [
    {
     "data": {
      "text/html": [
       "<div>\n",
       "<style scoped>\n",
       "    .dataframe tbody tr th:only-of-type {\n",
       "        vertical-align: middle;\n",
       "    }\n",
       "\n",
       "    .dataframe tbody tr th {\n",
       "        vertical-align: top;\n",
       "    }\n",
       "\n",
       "    .dataframe thead th {\n",
       "        text-align: right;\n",
       "    }\n",
       "</style>\n",
       "<table border=\"1\" class=\"dataframe\">\n",
       "  <thead>\n",
       "    <tr style=\"text-align: right;\">\n",
       "      <th></th>\n",
       "      <th>city</th>\n",
       "      <th>province</th>\n",
       "      <th>population</th>\n",
       "      <th>median_income</th>\n",
       "      <th>lat</th>\n",
       "      <th>lon</th>\n",
       "      <th>address</th>\n",
       "      <th>price</th>\n",
       "      <th>beds</th>\n",
       "      <th>baths</th>\n",
       "    </tr>\n",
       "  </thead>\n",
       "  <tbody>\n",
       "    <tr>\n",
       "      <th>0</th>\n",
       "      <td>Toronto</td>\n",
       "      <td>Ontario</td>\n",
       "      <td>5647656</td>\n",
       "      <td>97000</td>\n",
       "      <td>43.7417</td>\n",
       "      <td>-79.3733</td>\n",
       "      <td>#318 -20 southport st</td>\n",
       "      <td>779900</td>\n",
       "      <td>3</td>\n",
       "      <td>2</td>\n",
       "    </tr>\n",
       "    <tr>\n",
       "      <th>1</th>\n",
       "      <td>Toronto</td>\n",
       "      <td>Ontario</td>\n",
       "      <td>5647656</td>\n",
       "      <td>97000</td>\n",
       "      <td>43.7417</td>\n",
       "      <td>-79.3733</td>\n",
       "      <td>#818 -60 southport st</td>\n",
       "      <td>799999</td>\n",
       "      <td>3</td>\n",
       "      <td>1</td>\n",
       "    </tr>\n",
       "    <tr>\n",
       "      <th>2</th>\n",
       "      <td>Toronto</td>\n",
       "      <td>Ontario</td>\n",
       "      <td>5647656</td>\n",
       "      <td>97000</td>\n",
       "      <td>43.7417</td>\n",
       "      <td>-79.3733</td>\n",
       "      <td>#714 -859 the queensway</td>\n",
       "      <td>799900</td>\n",
       "      <td>2</td>\n",
       "      <td>2</td>\n",
       "    </tr>\n",
       "    <tr>\n",
       "      <th>3</th>\n",
       "      <td>Toronto</td>\n",
       "      <td>Ontario</td>\n",
       "      <td>5647656</td>\n",
       "      <td>97000</td>\n",
       "      <td>43.7417</td>\n",
       "      <td>-79.3733</td>\n",
       "      <td>275 mortimer ave</td>\n",
       "      <td>1200000</td>\n",
       "      <td>4</td>\n",
       "      <td>2</td>\n",
       "    </tr>\n",
       "    <tr>\n",
       "      <th>4</th>\n",
       "      <td>Toronto</td>\n",
       "      <td>Ontario</td>\n",
       "      <td>5647656</td>\n",
       "      <td>97000</td>\n",
       "      <td>43.7417</td>\n",
       "      <td>-79.3733</td>\n",
       "      <td>#420 -388 richmond st</td>\n",
       "      <td>668800</td>\n",
       "      <td>1</td>\n",
       "      <td>1</td>\n",
       "    </tr>\n",
       "  </tbody>\n",
       "</table>\n",
       "</div>"
      ],
      "text/plain": [
       "      city province  population  median_income      lat      lon  \\\n",
       "0  Toronto  Ontario     5647656          97000  43.7417 -79.3733   \n",
       "1  Toronto  Ontario     5647656          97000  43.7417 -79.3733   \n",
       "2  Toronto  Ontario     5647656          97000  43.7417 -79.3733   \n",
       "3  Toronto  Ontario     5647656          97000  43.7417 -79.3733   \n",
       "4  Toronto  Ontario     5647656          97000  43.7417 -79.3733   \n",
       "\n",
       "                   address    price  beds  baths  \n",
       "0    #318 -20 southport st   779900     3      2  \n",
       "1    #818 -60 southport st   799999     3      1  \n",
       "2  #714 -859 the queensway   799900     2      2  \n",
       "3         275 mortimer ave  1200000     4      2  \n",
       "4    #420 -388 richmond st   668800     1      1  "
      ]
     },
     "execution_count": 8,
     "metadata": {},
     "output_type": "execute_result"
    }
   ],
   "source": [
    "#reviewing the current state and structure of the DataFrame\n",
    "house_listing_df.head()"
   ]
  },
  {
   "cell_type": "markdown",
   "metadata": {},
   "source": [
    "### Validate Data: checking for missing values, nulls, duplicates, and removing duplicates"
   ]
  },
  {
   "cell_type": "code",
   "execution_count": 9,
   "metadata": {},
   "outputs": [
    {
     "data": {
      "text/plain": [
       "city             34942\n",
       "province         34942\n",
       "population       34942\n",
       "median_income    34942\n",
       "lat              34942\n",
       "lon              34942\n",
       "address          34942\n",
       "price            34942\n",
       "beds             34942\n",
       "baths            34942\n",
       "dtype: int64"
      ]
     },
     "execution_count": 9,
     "metadata": {},
     "output_type": "execute_result"
    }
   ],
   "source": [
    "#there are no incomplete rows\n",
    "house_listing_df.count()"
   ]
  },
  {
   "cell_type": "code",
   "execution_count": 10,
   "metadata": {},
   "outputs": [
    {
     "data": {
      "text/plain": [
       "False"
      ]
     },
     "execution_count": 10,
     "metadata": {},
     "output_type": "execute_result"
    }
   ],
   "source": [
    "#check for null values in housing_listing_df\n",
    "house_listing_df.isnull().values.any()"
   ]
  },
  {
   "cell_type": "code",
   "execution_count": 11,
   "metadata": {},
   "outputs": [
    {
     "name": "stdout",
     "output_type": "stream",
     "text": [
      "No duplicate rows found.\n"
     ]
    }
   ],
   "source": [
    "#drop duplicats except the last occurence and keep these changes the source DataFrame house_lisiting_df\n",
    "house_listing_df.drop_duplicates(keep='last',inplace=True)\n",
    "\n",
    "# Show the duplicate rows if there are any\n",
    "if house_listing_df.duplicated(keep=False).any():\n",
    "    duplicate_rows = house_listing_df[house_listing_df.duplicated(keep=False)]\n",
    "    print(\"Duplicate Rows:\")\n",
    "    print(duplicate_rows)\n",
    "else:\n",
    "    print(\"No duplicate rows found.\")\n"
   ]
  },
  {
   "cell_type": "code",
   "execution_count": 12,
   "metadata": {},
   "outputs": [
    {
     "data": {
      "text/plain": [
       "32568"
      ]
     },
     "execution_count": 12,
     "metadata": {},
     "output_type": "execute_result"
    }
   ],
   "source": [
    "#length of house_listing_df was originally 35768 but once duplicates dropped, length of house_listing_df is 33248\n",
    "#beds/baths 0 dropped, length of house_listing_df is 33248\n",
    "len(house_listing_df)"
   ]
  },
  {
   "cell_type": "markdown",
   "metadata": {},
   "source": [
    "### Export cleaned house_listing_df DataFrame to csv with indext reset"
   ]
  },
  {
   "cell_type": "code",
   "execution_count": 13,
   "metadata": {},
   "outputs": [],
   "source": [
    "#reset the index of the DataFrame \n",
    "house_listing_df = house_listing_df.reset_index(drop=True)\n",
    "\n",
    "#output a clean version of the csv file\n",
    "house_listing_df.to_csv(\"clean_dataset/house_listings_clean.csv\", index=False)"
   ]
  },
  {
   "cell_type": "markdown",
   "metadata": {},
   "source": [
    "### Checking for validity of outliers for House Listings"
   ]
  },
  {
   "cell_type": "markdown",
   "metadata": {},
   "source": [
    "### Outputting the count of unique bed and bath values in dataset"
   ]
  },
  {
   "cell_type": "code",
   "execution_count": 14,
   "metadata": {},
   "outputs": [
    {
     "data": {
      "text/plain": [
       "array([  3,   2,   4,   1,   6,   5,   7,   8,  11,   9,  10,  15,  16,\n",
       "        12,  40,  30,  20,  36,  14,  17,  46, 109,  35,  21,  18,  47,\n",
       "        27,  26,  13,  19], dtype=int64)"
      ]
     },
     "execution_count": 14,
     "metadata": {},
     "output_type": "execute_result"
    }
   ],
   "source": [
    "#there are house listings with beds of more than 10\n",
    "house_listing_df[\"beds\"].unique()"
   ]
  },
  {
   "cell_type": "code",
   "execution_count": 15,
   "metadata": {},
   "outputs": [
    {
     "data": {
      "text/plain": [
       "array([ 2,  1,  3,  4,  5,  6,  7,  8,  9, 11, 10, 12, 16, 25, 17, 59, 15,\n",
       "       21, 14, 20, 22], dtype=int64)"
      ]
     },
     "execution_count": 15,
     "metadata": {},
     "output_type": "execute_result"
    }
   ],
   "source": [
    "#there are house listings with bathrooms of more than 10\n",
    "house_listing_df[\"baths\"].unique()"
   ]
  },
  {
   "cell_type": "markdown",
   "metadata": {},
   "source": [
    "### Filtered house listings with less than 10 beds and/or baths"
   ]
  },
  {
   "cell_type": "code",
   "execution_count": 16,
   "metadata": {},
   "outputs": [],
   "source": [
    "#clean the data and remove all listings with more than 10 beds or baths\n",
    "housing_filtered = house_listing_df[(house_listing_df[\"beds\"] <= 10) & (house_listing_df[\"baths\"] <= 10)]"
   ]
  },
  {
   "cell_type": "code",
   "execution_count": 17,
   "metadata": {},
   "outputs": [
    {
     "data": {
      "text/plain": [
       "array([ 3,  2,  4,  1,  6,  5,  7,  8,  9, 10], dtype=int64)"
      ]
     },
     "execution_count": 17,
     "metadata": {},
     "output_type": "execute_result"
    }
   ],
   "source": [
    "#number of beds after cleaning \n",
    "housing_filtered['beds'].unique()"
   ]
  },
  {
   "cell_type": "code",
   "execution_count": 18,
   "metadata": {},
   "outputs": [
    {
     "data": {
      "text/plain": [
       "array([ 2,  1,  3,  4,  5,  6,  7,  8,  9, 10], dtype=int64)"
      ]
     },
     "execution_count": 18,
     "metadata": {},
     "output_type": "execute_result"
    }
   ],
   "source": [
    "#number of baths after cleaning\n",
    "housing_filtered['baths'].unique()"
   ]
  },
  {
   "cell_type": "markdown",
   "metadata": {},
   "source": [
    "### Validate Data: checking for missing values, nulls and duplicates"
   ]
  },
  {
   "cell_type": "code",
   "execution_count": 19,
   "metadata": {},
   "outputs": [
    {
     "data": {
      "text/plain": [
       "city             32497\n",
       "province         32497\n",
       "population       32497\n",
       "median_income    32497\n",
       "lat              32497\n",
       "lon              32497\n",
       "address          32497\n",
       "price            32497\n",
       "beds             32497\n",
       "baths            32497\n",
       "dtype: int64"
      ]
     },
     "execution_count": 19,
     "metadata": {},
     "output_type": "execute_result"
    }
   ],
   "source": [
    "housing_filtered.count()"
   ]
  },
  {
   "cell_type": "code",
   "execution_count": 20,
   "metadata": {},
   "outputs": [
    {
     "data": {
      "text/plain": [
       "False"
      ]
     },
     "execution_count": 20,
     "metadata": {},
     "output_type": "execute_result"
    }
   ],
   "source": [
    "#check for null values in population_dwelling_df\n",
    "housing_filtered.isnull().values.any()"
   ]
  },
  {
   "cell_type": "code",
   "execution_count": 21,
   "metadata": {},
   "outputs": [
    {
     "data": {
      "text/html": [
       "<div>\n",
       "<style scoped>\n",
       "    .dataframe tbody tr th:only-of-type {\n",
       "        vertical-align: middle;\n",
       "    }\n",
       "\n",
       "    .dataframe tbody tr th {\n",
       "        vertical-align: top;\n",
       "    }\n",
       "\n",
       "    .dataframe thead th {\n",
       "        text-align: right;\n",
       "    }\n",
       "</style>\n",
       "<table border=\"1\" class=\"dataframe\">\n",
       "  <thead>\n",
       "    <tr style=\"text-align: right;\">\n",
       "      <th></th>\n",
       "      <th>city</th>\n",
       "      <th>province</th>\n",
       "      <th>population</th>\n",
       "      <th>median_income</th>\n",
       "      <th>lat</th>\n",
       "      <th>lon</th>\n",
       "      <th>address</th>\n",
       "      <th>price</th>\n",
       "      <th>beds</th>\n",
       "      <th>baths</th>\n",
       "    </tr>\n",
       "  </thead>\n",
       "  <tbody>\n",
       "    <tr>\n",
       "      <th>0</th>\n",
       "      <td>Toronto</td>\n",
       "      <td>Ontario</td>\n",
       "      <td>5647656</td>\n",
       "      <td>97000</td>\n",
       "      <td>43.7417</td>\n",
       "      <td>-79.3733</td>\n",
       "      <td>#318 -20 southport st</td>\n",
       "      <td>779900</td>\n",
       "      <td>3</td>\n",
       "      <td>2</td>\n",
       "    </tr>\n",
       "    <tr>\n",
       "      <th>1</th>\n",
       "      <td>Toronto</td>\n",
       "      <td>Ontario</td>\n",
       "      <td>5647656</td>\n",
       "      <td>97000</td>\n",
       "      <td>43.7417</td>\n",
       "      <td>-79.3733</td>\n",
       "      <td>#818 -60 southport st</td>\n",
       "      <td>799999</td>\n",
       "      <td>3</td>\n",
       "      <td>1</td>\n",
       "    </tr>\n",
       "    <tr>\n",
       "      <th>2</th>\n",
       "      <td>Toronto</td>\n",
       "      <td>Ontario</td>\n",
       "      <td>5647656</td>\n",
       "      <td>97000</td>\n",
       "      <td>43.7417</td>\n",
       "      <td>-79.3733</td>\n",
       "      <td>#714 -859 the queensway</td>\n",
       "      <td>799900</td>\n",
       "      <td>2</td>\n",
       "      <td>2</td>\n",
       "    </tr>\n",
       "    <tr>\n",
       "      <th>3</th>\n",
       "      <td>Toronto</td>\n",
       "      <td>Ontario</td>\n",
       "      <td>5647656</td>\n",
       "      <td>97000</td>\n",
       "      <td>43.7417</td>\n",
       "      <td>-79.3733</td>\n",
       "      <td>275 mortimer ave</td>\n",
       "      <td>1200000</td>\n",
       "      <td>4</td>\n",
       "      <td>2</td>\n",
       "    </tr>\n",
       "    <tr>\n",
       "      <th>4</th>\n",
       "      <td>Toronto</td>\n",
       "      <td>Ontario</td>\n",
       "      <td>5647656</td>\n",
       "      <td>97000</td>\n",
       "      <td>43.7417</td>\n",
       "      <td>-79.3733</td>\n",
       "      <td>#420 -388 richmond st</td>\n",
       "      <td>668800</td>\n",
       "      <td>1</td>\n",
       "      <td>1</td>\n",
       "    </tr>\n",
       "  </tbody>\n",
       "</table>\n",
       "</div>"
      ],
      "text/plain": [
       "      city province  population  median_income      lat      lon  \\\n",
       "0  Toronto  Ontario     5647656          97000  43.7417 -79.3733   \n",
       "1  Toronto  Ontario     5647656          97000  43.7417 -79.3733   \n",
       "2  Toronto  Ontario     5647656          97000  43.7417 -79.3733   \n",
       "3  Toronto  Ontario     5647656          97000  43.7417 -79.3733   \n",
       "4  Toronto  Ontario     5647656          97000  43.7417 -79.3733   \n",
       "\n",
       "                   address    price  beds  baths  \n",
       "0    #318 -20 southport st   779900     3      2  \n",
       "1    #818 -60 southport st   799999     3      1  \n",
       "2  #714 -859 the queensway   799900     2      2  \n",
       "3         275 mortimer ave  1200000     4      2  \n",
       "4    #420 -388 richmond st   668800     1      1  "
      ]
     },
     "execution_count": 21,
     "metadata": {},
     "output_type": "execute_result"
    }
   ],
   "source": [
    "housing_filtered.head()"
   ]
  },
  {
   "cell_type": "code",
   "execution_count": 22,
   "metadata": {},
   "outputs": [
    {
     "name": "stdout",
     "output_type": "stream",
     "text": [
      "No duplicate rows found.\n"
     ]
    }
   ],
   "source": [
    "# Check for duplicates\n",
    "duplicates = housing_filtered.duplicated()\n",
    "\n",
    "# Display the duplicate rows\n",
    "duplicate_rows = housing_filtered[duplicates]\n",
    "\n",
    "# Show the duplicate rows if there are any\n",
    "if not duplicate_rows.empty:\n",
    "    print(\"Duplicate Rows:\")\n",
    "    print(duplicate_rows)\n",
    "else:\n",
    "    print(\"No duplicate rows found.\")\n"
   ]
  },
  {
   "cell_type": "markdown",
   "metadata": {},
   "source": [
    "### Evaluating the impact of outliers: A comparison of mean, median, standard deviation and quartiles"
   ]
  },
  {
   "cell_type": "code",
   "execution_count": 23,
   "metadata": {},
   "outputs": [
    {
     "name": "stdout",
     "output_type": "stream",
     "text": [
      "count        32,568.00\n",
      "mean        983,653.74\n",
      "std       1,041,230.06\n",
      "min          21,500.00\n",
      "25%         499,376.75\n",
      "50%         729,000.00\n",
      "75%       1,129,900.00\n",
      "max      37,000,000.00\n",
      "Name: price, dtype: object\n"
     ]
    }
   ],
   "source": [
    "#description of DataFrame with outliers\n",
    "statistical_summary = house_listing_df['price'].describe()\n",
    "formatted = statistical_summary.apply(lambda x: f'{x:,.2f}')\n",
    "print(formatted)"
   ]
  },
  {
   "cell_type": "code",
   "execution_count": 24,
   "metadata": {},
   "outputs": [
    {
     "name": "stdout",
     "output_type": "stream",
     "text": [
      "count        32,497.00\n",
      "mean        977,390.30\n",
      "std       1,007,043.03\n",
      "min          21,500.00\n",
      "25%         499,000.00\n",
      "50%         729,000.00\n",
      "75%       1,125,000.00\n",
      "max      28,800,000.00\n",
      "Name: price, dtype: object\n"
     ]
    }
   ],
   "source": [
    "#description of DataFrame without outliers of more than 10 beds and/or 10 baths\n",
    "statistical_summary_filtered = housing_filtered['price'].describe()\n",
    "formatted_filter = statistical_summary_filtered.apply(lambda x: f'{x:,.2f}')\n",
    "print(formatted_filter)"
   ]
  },
  {
   "cell_type": "markdown",
   "metadata": {},
   "source": [
    "Based on the descriptions of the house_listing_df (with the possible outliers) and the housing_filtered (without the possible outliers), the mean shows a slight decrease but the median remains the same. The changes in the standard deviation and quartlies show that outliers have a minor impact on the overall dataset."
   ]
  },
  {
   "cell_type": "code",
   "execution_count": 25,
   "metadata": {},
   "outputs": [],
   "source": [
    "#reset the index of the DataFrame \n",
    "#housing_filtered = housing_filtered.reset_index(drop=True)\n",
    "#output a clean version of the csv file\n",
    "#housing_filtered.to_csv(\"clean_dataset/housing_filtered_clean.csv\", index=False)"
   ]
  },
  {
   "cell_type": "markdown",
   "metadata": {},
   "source": [
    "# Cleaned Population Dwelling Counts"
   ]
  },
  {
   "cell_type": "markdown",
   "metadata": {},
   "source": [
    "### Import population_dwelling_counts.csv"
   ]
  },
  {
   "cell_type": "code",
   "execution_count": 26,
   "metadata": {},
   "outputs": [
    {
     "data": {
      "text/html": [
       "<div>\n",
       "<style scoped>\n",
       "    .dataframe tbody tr th:only-of-type {\n",
       "        vertical-align: middle;\n",
       "    }\n",
       "\n",
       "    .dataframe tbody tr th {\n",
       "        vertical-align: top;\n",
       "    }\n",
       "\n",
       "    .dataframe thead th {\n",
       "        text-align: right;\n",
       "    }\n",
       "</style>\n",
       "<table border=\"1\" class=\"dataframe\">\n",
       "  <thead>\n",
       "    <tr style=\"text-align: right;\">\n",
       "      <th></th>\n",
       "      <th>ï»¿Geographic name</th>\n",
       "      <th>Geographic area type</th>\n",
       "      <th>Province and Territory Abbrev</th>\n",
       "      <th>Population, 2021</th>\n",
       "      <th>Total private dwellings, 2021</th>\n",
       "      <th>Private dwellings occupied by usual residents, 2021</th>\n",
       "      <th>Land area in square kilometres, 2021</th>\n",
       "      <th>Population density per square kilometre, 2021</th>\n",
       "    </tr>\n",
       "  </thead>\n",
       "  <tbody>\n",
       "    <tr>\n",
       "      <th>0</th>\n",
       "      <td>Canada 2</td>\n",
       "      <td>Country</td>\n",
       "      <td>...</td>\n",
       "      <td>36,991,981</td>\n",
       "      <td>16,284,235</td>\n",
       "      <td>14,978,941</td>\n",
       "      <td>8,788,702.80</td>\n",
       "      <td>4.2</td>\n",
       "    </tr>\n",
       "    <tr>\n",
       "      <th>1</th>\n",
       "      <td>Newfoundland and Labrador</td>\n",
       "      <td>Province</td>\n",
       "      <td>N.L.</td>\n",
       "      <td>510,550</td>\n",
       "      <td>269,184</td>\n",
       "      <td>223,253</td>\n",
       "      <td>358,170.37</td>\n",
       "      <td>1.4</td>\n",
       "    </tr>\n",
       "    <tr>\n",
       "      <th>2</th>\n",
       "      <td>Bay Roberts</td>\n",
       "      <td>Small population centre</td>\n",
       "      <td>N.L.</td>\n",
       "      <td>6,897</td>\n",
       "      <td>3,184</td>\n",
       "      <td>2,888</td>\n",
       "      <td>16.88</td>\n",
       "      <td>408.5</td>\n",
       "    </tr>\n",
       "    <tr>\n",
       "      <th>3</th>\n",
       "      <td>Bishop's Falls</td>\n",
       "      <td>Small population centre</td>\n",
       "      <td>N.L.</td>\n",
       "      <td>3,006</td>\n",
       "      <td>1,498</td>\n",
       "      <td>1,386</td>\n",
       "      <td>6.89</td>\n",
       "      <td>436.1</td>\n",
       "    </tr>\n",
       "    <tr>\n",
       "      <th>4</th>\n",
       "      <td>Bonavista</td>\n",
       "      <td>Small population centre</td>\n",
       "      <td>N.L.</td>\n",
       "      <td>2,979</td>\n",
       "      <td>1,628</td>\n",
       "      <td>1,379</td>\n",
       "      <td>4.36</td>\n",
       "      <td>683.1</td>\n",
       "    </tr>\n",
       "  </tbody>\n",
       "</table>\n",
       "</div>"
      ],
      "text/plain": [
       "          ï»¿Geographic name     Geographic area type  \\\n",
       "0                   Canada 2                  Country   \n",
       "1  Newfoundland and Labrador                 Province   \n",
       "2                Bay Roberts  Small population centre   \n",
       "3             Bishop's Falls  Small population centre   \n",
       "4                  Bonavista  Small population centre   \n",
       "\n",
       "  Province and Territory Abbrev Population, 2021  \\\n",
       "0                           ...       36,991,981   \n",
       "1                          N.L.          510,550   \n",
       "2                          N.L.            6,897   \n",
       "3                          N.L.            3,006   \n",
       "4                          N.L.            2,979   \n",
       "\n",
       "  Total private dwellings, 2021  \\\n",
       "0                    16,284,235   \n",
       "1                       269,184   \n",
       "2                         3,184   \n",
       "3                         1,498   \n",
       "4                         1,628   \n",
       "\n",
       "  Private dwellings occupied by usual residents, 2021  \\\n",
       "0                                         14,978,941    \n",
       "1                                            223,253    \n",
       "2                                              2,888    \n",
       "3                                              1,386    \n",
       "4                                              1,379    \n",
       "\n",
       "  Land area in square kilometres, 2021  \\\n",
       "0                         8,788,702.80   \n",
       "1                           358,170.37   \n",
       "2                                16.88   \n",
       "3                                 6.89   \n",
       "4                                 4.36   \n",
       "\n",
       "  Population density per square kilometre, 2021  \n",
       "0                                           4.2  \n",
       "1                                           1.4  \n",
       "2                                         408.5  \n",
       "3                                         436.1  \n",
       "4                                         683.1  "
      ]
     },
     "execution_count": 26,
     "metadata": {},
     "output_type": "execute_result"
    }
   ],
   "source": [
    "population_dwelling_file = Path(\"resources/population_dwelling_counts.csv\")\n",
    "population_dwelling_df = pd.read_csv(population_dwelling_file,encoding='ISO-8859-1')\n",
    "population_dwelling_df.head()"
   ]
  },
  {
   "cell_type": "markdown",
   "metadata": {},
   "source": [
    "### Deleting a column, renaming and reordering columns, filling missing data, formatting abbreviations column"
   ]
  },
  {
   "cell_type": "code",
   "execution_count": 27,
   "metadata": {},
   "outputs": [],
   "source": [
    "#column named, Private dwellings occupied by usual residents, 2021 includes renter and owners who live in the property\n",
    "#column named, Total private dwellings, 2021 includes renters and owners who live in the property plus short term rentals such as cottages and airbnbs\n",
    "#only need column named, Total private dwellings, 2021  \n",
    "del population_dwelling_df[\"Private dwellings occupied by usual residents, 2021\"]"
   ]
  },
  {
   "cell_type": "code",
   "execution_count": 28,
   "metadata": {},
   "outputs": [
    {
     "data": {
      "text/html": [
       "<div>\n",
       "<style scoped>\n",
       "    .dataframe tbody tr th:only-of-type {\n",
       "        vertical-align: middle;\n",
       "    }\n",
       "\n",
       "    .dataframe tbody tr th {\n",
       "        vertical-align: top;\n",
       "    }\n",
       "\n",
       "    .dataframe thead th {\n",
       "        text-align: right;\n",
       "    }\n",
       "</style>\n",
       "<table border=\"1\" class=\"dataframe\">\n",
       "  <thead>\n",
       "    <tr style=\"text-align: right;\">\n",
       "      <th></th>\n",
       "      <th>city</th>\n",
       "      <th>abbrev</th>\n",
       "      <th>area_type</th>\n",
       "      <th>pop</th>\n",
       "      <th>pop_density_sq_km</th>\n",
       "      <th>total_dwellings</th>\n",
       "      <th>land_area_sq_km</th>\n",
       "    </tr>\n",
       "  </thead>\n",
       "  <tbody>\n",
       "    <tr>\n",
       "      <th>0</th>\n",
       "      <td>Canada 2</td>\n",
       "      <td>...</td>\n",
       "      <td>Country</td>\n",
       "      <td>36,991,981</td>\n",
       "      <td>4.2</td>\n",
       "      <td>16,284,235</td>\n",
       "      <td>8,788,702.80</td>\n",
       "    </tr>\n",
       "    <tr>\n",
       "      <th>1</th>\n",
       "      <td>Newfoundland and Labrador</td>\n",
       "      <td>N.L.</td>\n",
       "      <td>Province</td>\n",
       "      <td>510,550</td>\n",
       "      <td>1.4</td>\n",
       "      <td>269,184</td>\n",
       "      <td>358,170.37</td>\n",
       "    </tr>\n",
       "    <tr>\n",
       "      <th>2</th>\n",
       "      <td>Bay Roberts</td>\n",
       "      <td>N.L.</td>\n",
       "      <td>Small population centre</td>\n",
       "      <td>6,897</td>\n",
       "      <td>408.5</td>\n",
       "      <td>3,184</td>\n",
       "      <td>16.88</td>\n",
       "    </tr>\n",
       "    <tr>\n",
       "      <th>3</th>\n",
       "      <td>Bishop's Falls</td>\n",
       "      <td>N.L.</td>\n",
       "      <td>Small population centre</td>\n",
       "      <td>3,006</td>\n",
       "      <td>436.1</td>\n",
       "      <td>1,498</td>\n",
       "      <td>6.89</td>\n",
       "    </tr>\n",
       "    <tr>\n",
       "      <th>4</th>\n",
       "      <td>Bonavista</td>\n",
       "      <td>N.L.</td>\n",
       "      <td>Small population centre</td>\n",
       "      <td>2,979</td>\n",
       "      <td>683.1</td>\n",
       "      <td>1,628</td>\n",
       "      <td>4.36</td>\n",
       "    </tr>\n",
       "  </tbody>\n",
       "</table>\n",
       "</div>"
      ],
      "text/plain": [
       "                        city abbrev                area_type         pop  \\\n",
       "0                   Canada 2    ...                  Country  36,991,981   \n",
       "1  Newfoundland and Labrador   N.L.                 Province     510,550   \n",
       "2                Bay Roberts   N.L.  Small population centre       6,897   \n",
       "3             Bishop's Falls   N.L.  Small population centre       3,006   \n",
       "4                  Bonavista   N.L.  Small population centre       2,979   \n",
       "\n",
       "  pop_density_sq_km total_dwellings land_area_sq_km  \n",
       "0               4.2      16,284,235    8,788,702.80  \n",
       "1               1.4         269,184      358,170.37  \n",
       "2             408.5           3,184           16.88  \n",
       "3             436.1           1,498            6.89  \n",
       "4             683.1           1,628            4.36  "
      ]
     },
     "execution_count": 28,
     "metadata": {},
     "output_type": "execute_result"
    }
   ],
   "source": [
    "#change population_dwelling_df column names\n",
    "population_dwelling_df = population_dwelling_df.rename(columns={\n",
    "    \"ï»¿Geographic name\":\"city\",\n",
    "    \"Geographic area type\":\"area_type\",\n",
    "    \"Province and Territory Abbrev\":\"abbrev\",\n",
    "    \"Population, 2021\":\"pop\",\n",
    "    \"Total private dwellings, 2021\":\"total_dwellings\",\n",
    "    \"Land area in square kilometres, 2021\":\"land_area_sq_km\",\n",
    "    \"Population density per square kilometre, 2021\":\"pop_density_sq_km\"\n",
    "    })\n",
    "\n",
    "#reorder the columns\n",
    "population_dwelling_df = population_dwelling_df[[\n",
    "    \"city\",\"abbrev\",\"area_type\",\"pop\",\"pop_density_sq_km\",\"total_dwellings\",\"land_area_sq_km\"   \n",
    "]]\n",
    "\n",
    "population_dwelling_df.head()"
   ]
  },
  {
   "cell_type": "code",
   "execution_count": 29,
   "metadata": {},
   "outputs": [
    {
     "data": {
      "text/html": [
       "<div>\n",
       "<style scoped>\n",
       "    .dataframe tbody tr th:only-of-type {\n",
       "        vertical-align: middle;\n",
       "    }\n",
       "\n",
       "    .dataframe tbody tr th {\n",
       "        vertical-align: top;\n",
       "    }\n",
       "\n",
       "    .dataframe thead th {\n",
       "        text-align: right;\n",
       "    }\n",
       "</style>\n",
       "<table border=\"1\" class=\"dataframe\">\n",
       "  <thead>\n",
       "    <tr style=\"text-align: right;\">\n",
       "      <th></th>\n",
       "      <th>city</th>\n",
       "      <th>abbrev</th>\n",
       "      <th>area_type</th>\n",
       "      <th>pop</th>\n",
       "      <th>pop_density_sq_km</th>\n",
       "      <th>total_dwellings</th>\n",
       "      <th>land_area_sq_km</th>\n",
       "    </tr>\n",
       "  </thead>\n",
       "  <tbody>\n",
       "    <tr>\n",
       "      <th>0</th>\n",
       "      <td>Canada 2</td>\n",
       "      <td>CAN</td>\n",
       "      <td>Country</td>\n",
       "      <td>36,991,981</td>\n",
       "      <td>4.2</td>\n",
       "      <td>16,284,235</td>\n",
       "      <td>8,788,702.80</td>\n",
       "    </tr>\n",
       "    <tr>\n",
       "      <th>1</th>\n",
       "      <td>Newfoundland and Labrador</td>\n",
       "      <td>NL</td>\n",
       "      <td>Province</td>\n",
       "      <td>510,550</td>\n",
       "      <td>1.4</td>\n",
       "      <td>269,184</td>\n",
       "      <td>358,170.37</td>\n",
       "    </tr>\n",
       "    <tr>\n",
       "      <th>2</th>\n",
       "      <td>Bay Roberts</td>\n",
       "      <td>NL</td>\n",
       "      <td>Small population centre</td>\n",
       "      <td>6,897</td>\n",
       "      <td>408.5</td>\n",
       "      <td>3,184</td>\n",
       "      <td>16.88</td>\n",
       "    </tr>\n",
       "    <tr>\n",
       "      <th>3</th>\n",
       "      <td>Bishop's Falls</td>\n",
       "      <td>NL</td>\n",
       "      <td>Small population centre</td>\n",
       "      <td>3,006</td>\n",
       "      <td>436.1</td>\n",
       "      <td>1,498</td>\n",
       "      <td>6.89</td>\n",
       "    </tr>\n",
       "    <tr>\n",
       "      <th>4</th>\n",
       "      <td>Bonavista</td>\n",
       "      <td>NL</td>\n",
       "      <td>Small population centre</td>\n",
       "      <td>2,979</td>\n",
       "      <td>683.1</td>\n",
       "      <td>1,628</td>\n",
       "      <td>4.36</td>\n",
       "    </tr>\n",
       "  </tbody>\n",
       "</table>\n",
       "</div>"
      ],
      "text/plain": [
       "                        city abbrev                area_type         pop  \\\n",
       "0                   Canada 2    CAN                  Country  36,991,981   \n",
       "1  Newfoundland and Labrador     NL                 Province     510,550   \n",
       "2                Bay Roberts     NL  Small population centre       6,897   \n",
       "3             Bishop's Falls     NL  Small population centre       3,006   \n",
       "4                  Bonavista     NL  Small population centre       2,979   \n",
       "\n",
       "  pop_density_sq_km total_dwellings land_area_sq_km  \n",
       "0               4.2      16,284,235    8,788,702.80  \n",
       "1               1.4         269,184      358,170.37  \n",
       "2             408.5           3,184           16.88  \n",
       "3             436.1           1,498            6.89  \n",
       "4             683.1           1,628            4.36  "
      ]
     },
     "execution_count": 29,
     "metadata": {},
     "output_type": "execute_result"
    }
   ],
   "source": [
    "#add abbreviation for Canada\n",
    "population_dwelling_df.loc[population_dwelling_df[\"city\"] == \"Canada 2\",\"abbrev\"] = \"CAN\"\n",
    "\n",
    "#remove periods from the abbreviations column\n",
    "population_dwelling_df['abbrev'] = population_dwelling_df['abbrev'].str.replace(\".\",\"\")\n",
    "\n",
    "population_dwelling_df.head()"
   ]
  },
  {
   "cell_type": "markdown",
   "metadata": {},
   "source": [
    "### Simplifying area type labels, formatting numerical data, adjusting data types"
   ]
  },
  {
   "cell_type": "code",
   "execution_count": 30,
   "metadata": {},
   "outputs": [
    {
     "data": {
      "text/plain": [
       "area_type\n",
       "Small population centre          938\n",
       "Medium population centre          60\n",
       "Large urban population centre     36\n",
       "Province                          10\n",
       "Territory                          3\n",
       "Country                            1\n",
       "Name: count, dtype: int64"
      ]
     },
     "execution_count": 30,
     "metadata": {},
     "output_type": "execute_result"
    }
   ],
   "source": [
    "population_dwelling_df[\"area_type\"].value_counts()"
   ]
  },
  {
   "cell_type": "code",
   "execution_count": 31,
   "metadata": {},
   "outputs": [
    {
     "data": {
      "text/plain": [
       "area_type\n",
       "small          938\n",
       "medium          60\n",
       "large urban     36\n",
       "Province        10\n",
       "Territory        3\n",
       "Country          1\n",
       "Name: count, dtype: int64"
      ]
     },
     "execution_count": 31,
     "metadata": {},
     "output_type": "execute_result"
    }
   ],
   "source": [
    "#simplifying area type labels\n",
    "population_dwelling_df[\"area_type\"] = population_dwelling_df[\"area_type\"].replace({\n",
    "    \"Small population centre\":\"small\",\n",
    "    \"Medium population centre\":\"medium\",\n",
    "    \"Large urban population centre\":\"large urban\"\n",
    "})\n",
    "population_dwelling_df[\"area_type\"].value_counts()"
   ]
  },
  {
   "cell_type": "code",
   "execution_count": 32,
   "metadata": {},
   "outputs": [
    {
     "data": {
      "text/plain": [
       "city                 object\n",
       "abbrev               object\n",
       "area_type            object\n",
       "pop                  object\n",
       "pop_density_sq_km    object\n",
       "total_dwellings      object\n",
       "land_area_sq_km      object\n",
       "dtype: object"
      ]
     },
     "execution_count": 32,
     "metadata": {},
     "output_type": "execute_result"
    }
   ],
   "source": [
    "#check data types\n",
    "population_dwelling_df.dtypes"
   ]
  },
  {
   "cell_type": "code",
   "execution_count": 33,
   "metadata": {},
   "outputs": [
    {
     "name": "stdout",
     "output_type": "stream",
     "text": [
      "city                  object\n",
      "abbrev                object\n",
      "area_type             object\n",
      "pop                    int64\n",
      "pop_density_sq_km    float64\n",
      "total_dwellings        int64\n",
      "land_area_sq_km      float64\n",
      "dtype: object\n"
     ]
    }
   ],
   "source": [
    "#creating a function to remove all commas from numerical data\n",
    "def remove_comma(column):\n",
    "    return column.astype(str).str.replace(',','')\n",
    "\n",
    "population_dwelling_df['pop'] = remove_comma(population_dwelling_df['pop'])\n",
    "population_dwelling_df['pop_density_sq_km'] = remove_comma(population_dwelling_df['pop_density_sq_km'])\n",
    "population_dwelling_df['total_dwellings'] = remove_comma(population_dwelling_df['total_dwellings'])\n",
    "population_dwelling_df['land_area_sq_km'] = remove_comma(population_dwelling_df['land_area_sq_km'])\n",
    "\n",
    "#using df.astype() method to convert the data types of the numerical columns\n",
    "population_dwelling_df = population_dwelling_df.astype({\n",
    "    'pop':'int64',\n",
    "    'pop_density_sq_km':'float64',\n",
    "    'total_dwellings':'int64',\n",
    "    'land_area_sq_km':'float64'\n",
    "}, errors='raise')\n",
    "\n",
    "#check the data types of the columns to confirm the conversion\n",
    "print(population_dwelling_df.dtypes)"
   ]
  },
  {
   "cell_type": "markdown",
   "metadata": {},
   "source": [
    "### Checking for missing values, nulls, duplicates, and removing duplicates"
   ]
  },
  {
   "cell_type": "code",
   "execution_count": 34,
   "metadata": {},
   "outputs": [
    {
     "name": "stdout",
     "output_type": "stream",
     "text": [
      "No duplicate rows found.\n"
     ]
    }
   ],
   "source": [
    "# Check for duplicates\n",
    "duplicates = population_dwelling_df.duplicated()\n",
    "\n",
    "# Display the duplicate rows\n",
    "duplicate_rows = population_dwelling_df[duplicates]\n",
    "\n",
    "# Show the duplicate rows if there are any\n",
    "if not duplicate_rows.empty:\n",
    "    print(\"Duplicate Rows:\")\n",
    "    print(duplicate_rows)\n",
    "else:\n",
    "    print(\"No duplicate rows found.\")\n"
   ]
  },
  {
   "cell_type": "code",
   "execution_count": 35,
   "metadata": {},
   "outputs": [
    {
     "data": {
      "text/plain": [
       "city                 1048\n",
       "abbrev               1048\n",
       "area_type            1048\n",
       "pop                  1048\n",
       "pop_density_sq_km    1048\n",
       "total_dwellings      1048\n",
       "land_area_sq_km      1048\n",
       "dtype: int64"
      ]
     },
     "execution_count": 35,
     "metadata": {},
     "output_type": "execute_result"
    }
   ],
   "source": [
    "#there are no incomplete rows\n",
    "population_dwelling_df.count()"
   ]
  },
  {
   "cell_type": "code",
   "execution_count": 36,
   "metadata": {},
   "outputs": [
    {
     "data": {
      "text/plain": [
       "False"
      ]
     },
     "execution_count": 36,
     "metadata": {},
     "output_type": "execute_result"
    }
   ],
   "source": [
    "#check for null values\n",
    "population_dwelling_df.isnull().values.any()"
   ]
  },
  {
   "cell_type": "markdown",
   "metadata": {},
   "source": [
    "### Removing rows by area type, creating a new DataFrame called province_territory_population_dwelling_df"
   ]
  },
  {
   "cell_type": "code",
   "execution_count": 37,
   "metadata": {},
   "outputs": [
    {
     "data": {
      "text/plain": [
       "1048"
      ]
     },
     "execution_count": 37,
     "metadata": {},
     "output_type": "execute_result"
    }
   ],
   "source": [
    "#checking length of population_dwelling_df before removing rows where area_type is Province, Territory and Country\n",
    "len(population_dwelling_df)"
   ]
  },
  {
   "cell_type": "code",
   "execution_count": 38,
   "metadata": {},
   "outputs": [
    {
     "data": {
      "text/html": [
       "<div>\n",
       "<style scoped>\n",
       "    .dataframe tbody tr th:only-of-type {\n",
       "        vertical-align: middle;\n",
       "    }\n",
       "\n",
       "    .dataframe tbody tr th {\n",
       "        vertical-align: top;\n",
       "    }\n",
       "\n",
       "    .dataframe thead th {\n",
       "        text-align: right;\n",
       "    }\n",
       "</style>\n",
       "<table border=\"1\" class=\"dataframe\">\n",
       "  <thead>\n",
       "    <tr style=\"text-align: right;\">\n",
       "      <th></th>\n",
       "      <th>city</th>\n",
       "      <th>abbrev</th>\n",
       "      <th>area_type</th>\n",
       "      <th>pop</th>\n",
       "      <th>pop_density_sq_km</th>\n",
       "      <th>total_dwellings</th>\n",
       "      <th>land_area_sq_km</th>\n",
       "    </tr>\n",
       "  </thead>\n",
       "  <tbody>\n",
       "    <tr>\n",
       "      <th>0</th>\n",
       "      <td>Canada 2</td>\n",
       "      <td>CAN</td>\n",
       "      <td>Country</td>\n",
       "      <td>36991981</td>\n",
       "      <td>4.2</td>\n",
       "      <td>16284235</td>\n",
       "      <td>8788702.80</td>\n",
       "    </tr>\n",
       "    <tr>\n",
       "      <th>1</th>\n",
       "      <td>Newfoundland and Labrador</td>\n",
       "      <td>NL</td>\n",
       "      <td>Province</td>\n",
       "      <td>510550</td>\n",
       "      <td>1.4</td>\n",
       "      <td>269184</td>\n",
       "      <td>358170.37</td>\n",
       "    </tr>\n",
       "    <tr>\n",
       "      <th>2</th>\n",
       "      <td>Prince Edward Island</td>\n",
       "      <td>PEI</td>\n",
       "      <td>Province</td>\n",
       "      <td>154331</td>\n",
       "      <td>27.2</td>\n",
       "      <td>74934</td>\n",
       "      <td>5681.18</td>\n",
       "    </tr>\n",
       "    <tr>\n",
       "      <th>3</th>\n",
       "      <td>Nova Scotia</td>\n",
       "      <td>NS</td>\n",
       "      <td>Province</td>\n",
       "      <td>969383</td>\n",
       "      <td>18.4</td>\n",
       "      <td>476007</td>\n",
       "      <td>52824.71</td>\n",
       "    </tr>\n",
       "    <tr>\n",
       "      <th>4</th>\n",
       "      <td>New Brunswick</td>\n",
       "      <td>NB</td>\n",
       "      <td>Province</td>\n",
       "      <td>775610</td>\n",
       "      <td>10.9</td>\n",
       "      <td>366146</td>\n",
       "      <td>71248.50</td>\n",
       "    </tr>\n",
       "    <tr>\n",
       "      <th>5</th>\n",
       "      <td>Quebec 2</td>\n",
       "      <td>Que</td>\n",
       "      <td>Province</td>\n",
       "      <td>8501833</td>\n",
       "      <td>6.5</td>\n",
       "      <td>4050164</td>\n",
       "      <td>1298599.75</td>\n",
       "    </tr>\n",
       "    <tr>\n",
       "      <th>6</th>\n",
       "      <td>Ontario 2</td>\n",
       "      <td>Ont</td>\n",
       "      <td>Province</td>\n",
       "      <td>14223942</td>\n",
       "      <td>15.9</td>\n",
       "      <td>5929250</td>\n",
       "      <td>892411.76</td>\n",
       "    </tr>\n",
       "    <tr>\n",
       "      <th>7</th>\n",
       "      <td>Manitoba 2</td>\n",
       "      <td>Man</td>\n",
       "      <td>Province</td>\n",
       "      <td>1342153</td>\n",
       "      <td>2.5</td>\n",
       "      <td>571528</td>\n",
       "      <td>540310.19</td>\n",
       "    </tr>\n",
       "    <tr>\n",
       "      <th>8</th>\n",
       "      <td>Saskatchewan 2</td>\n",
       "      <td>Sask</td>\n",
       "      <td>Province</td>\n",
       "      <td>1132505</td>\n",
       "      <td>2.0</td>\n",
       "      <td>513725</td>\n",
       "      <td>577060.40</td>\n",
       "    </tr>\n",
       "    <tr>\n",
       "      <th>9</th>\n",
       "      <td>Alberta 2</td>\n",
       "      <td>Alta</td>\n",
       "      <td>Province</td>\n",
       "      <td>4262635</td>\n",
       "      <td>6.7</td>\n",
       "      <td>1772670</td>\n",
       "      <td>634658.27</td>\n",
       "    </tr>\n",
       "    <tr>\n",
       "      <th>10</th>\n",
       "      <td>British Columbia 2</td>\n",
       "      <td>BC</td>\n",
       "      <td>Province</td>\n",
       "      <td>5000879</td>\n",
       "      <td>5.4</td>\n",
       "      <td>2211694</td>\n",
       "      <td>920686.55</td>\n",
       "    </tr>\n",
       "    <tr>\n",
       "      <th>11</th>\n",
       "      <td>Yukon</td>\n",
       "      <td>YT</td>\n",
       "      <td>Territory</td>\n",
       "      <td>40232</td>\n",
       "      <td>0.1</td>\n",
       "      <td>19610</td>\n",
       "      <td>472345.44</td>\n",
       "    </tr>\n",
       "    <tr>\n",
       "      <th>12</th>\n",
       "      <td>Northwest Territories</td>\n",
       "      <td>NWT</td>\n",
       "      <td>Territory</td>\n",
       "      <td>41070</td>\n",
       "      <td>0.0</td>\n",
       "      <td>17603</td>\n",
       "      <td>1127711.92</td>\n",
       "    </tr>\n",
       "    <tr>\n",
       "      <th>13</th>\n",
       "      <td>Nunavut</td>\n",
       "      <td>Nvt</td>\n",
       "      <td>Territory</td>\n",
       "      <td>36858</td>\n",
       "      <td>0.0</td>\n",
       "      <td>11720</td>\n",
       "      <td>1836993.78</td>\n",
       "    </tr>\n",
       "  </tbody>\n",
       "</table>\n",
       "</div>"
      ],
      "text/plain": [
       "                         city abbrev  area_type       pop  pop_density_sq_km  \\\n",
       "0                    Canada 2    CAN    Country  36991981                4.2   \n",
       "1   Newfoundland and Labrador     NL   Province    510550                1.4   \n",
       "2        Prince Edward Island    PEI   Province    154331               27.2   \n",
       "3                 Nova Scotia     NS   Province    969383               18.4   \n",
       "4               New Brunswick     NB   Province    775610               10.9   \n",
       "5                    Quebec 2    Que   Province   8501833                6.5   \n",
       "6                   Ontario 2    Ont   Province  14223942               15.9   \n",
       "7                  Manitoba 2    Man   Province   1342153                2.5   \n",
       "8              Saskatchewan 2   Sask   Province   1132505                2.0   \n",
       "9                   Alberta 2   Alta   Province   4262635                6.7   \n",
       "10         British Columbia 2     BC   Province   5000879                5.4   \n",
       "11                      Yukon     YT  Territory     40232                0.1   \n",
       "12      Northwest Territories    NWT  Territory     41070                0.0   \n",
       "13                    Nunavut    Nvt  Territory     36858                0.0   \n",
       "\n",
       "    total_dwellings  land_area_sq_km  \n",
       "0          16284235       8788702.80  \n",
       "1            269184        358170.37  \n",
       "2             74934          5681.18  \n",
       "3            476007         52824.71  \n",
       "4            366146         71248.50  \n",
       "5           4050164       1298599.75  \n",
       "6           5929250        892411.76  \n",
       "7            571528        540310.19  \n",
       "8            513725        577060.40  \n",
       "9           1772670        634658.27  \n",
       "10          2211694        920686.55  \n",
       "11            19610        472345.44  \n",
       "12            17603       1127711.92  \n",
       "13            11720       1836993.78  "
      ]
     },
     "execution_count": 38,
     "metadata": {},
     "output_type": "execute_result"
    }
   ],
   "source": [
    "#create new DataFrame for rows where area_type is Province, Territory and Country\n",
    "province_territory_population_dwelling_df = population_dwelling_df[\n",
    "    (population_dwelling_df[\"area_type\"] == \"Province\") | \n",
    "    (population_dwelling_df[\"area_type\"] == \"Country\") | \n",
    "    (population_dwelling_df[\"area_type\"] == \"Territory\")\n",
    "]\n",
    "#remove all rows from population_dwelling_df, where area_type is Province, Territory and Country\n",
    "population_dwelling_df = population_dwelling_df.drop(province_territory_population_dwelling_df.index)\n",
    "\n",
    "#reset the index of the DataFrame \n",
    "province_territory_population_dwelling_df = province_territory_population_dwelling_df.reset_index(drop=True)\n",
    "province_territory_population_dwelling_df"
   ]
  },
  {
   "cell_type": "code",
   "execution_count": 39,
   "metadata": {},
   "outputs": [
    {
     "data": {
      "text/plain": [
       "14"
      ]
     },
     "execution_count": 39,
     "metadata": {},
     "output_type": "execute_result"
    }
   ],
   "source": [
    "#checking length of new DataFrame province_territory_population_dwelling_df \n",
    "len(province_territory_population_dwelling_df)"
   ]
  },
  {
   "cell_type": "code",
   "execution_count": 40,
   "metadata": {},
   "outputs": [
    {
     "data": {
      "text/plain": [
       "1034"
      ]
     },
     "execution_count": 40,
     "metadata": {},
     "output_type": "execute_result"
    }
   ],
   "source": [
    "#checking length of population_dwelling_df after removing rows where area_type is Province, Territory and Country\n",
    "len(population_dwelling_df)"
   ]
  },
  {
   "cell_type": "markdown",
   "metadata": {},
   "source": [
    "### Checking for missing values, nulls, and data type in new DataFrame"
   ]
  },
  {
   "cell_type": "code",
   "execution_count": 41,
   "metadata": {},
   "outputs": [
    {
     "data": {
      "text/plain": [
       "city                 14\n",
       "abbrev               14\n",
       "area_type            14\n",
       "pop                  14\n",
       "pop_density_sq_km    14\n",
       "total_dwellings      14\n",
       "land_area_sq_km      14\n",
       "dtype: int64"
      ]
     },
     "execution_count": 41,
     "metadata": {},
     "output_type": "execute_result"
    }
   ],
   "source": [
    "#there are no incomplete rows\n",
    "province_territory_population_dwelling_df.count()"
   ]
  },
  {
   "cell_type": "code",
   "execution_count": 42,
   "metadata": {},
   "outputs": [
    {
     "data": {
      "text/plain": [
       "False"
      ]
     },
     "execution_count": 42,
     "metadata": {},
     "output_type": "execute_result"
    }
   ],
   "source": [
    "#check for null values\n",
    "population_dwelling_df.isnull().values.any()"
   ]
  },
  {
   "cell_type": "code",
   "execution_count": 43,
   "metadata": {},
   "outputs": [
    {
     "data": {
      "text/plain": [
       "city                  object\n",
       "abbrev                object\n",
       "area_type             object\n",
       "pop                    int64\n",
       "pop_density_sq_km    float64\n",
       "total_dwellings        int64\n",
       "land_area_sq_km      float64\n",
       "dtype: object"
      ]
     },
     "execution_count": 43,
     "metadata": {},
     "output_type": "execute_result"
    }
   ],
   "source": [
    "#checking data types of province_territory_population_dwelling_df\n",
    "province_territory_population_dwelling_df.dtypes"
   ]
  },
  {
   "cell_type": "markdown",
   "metadata": {},
   "source": [
    "### Export province_territory_population_dwelling_df DataFrame to csv with index reset"
   ]
  },
  {
   "cell_type": "code",
   "execution_count": 44,
   "metadata": {},
   "outputs": [],
   "source": [
    "#reset the index of the DataFrame \n",
    "province_territory_population_dwelling_df = province_territory_population_dwelling_df.reset_index(drop=True)\n",
    "\n",
    "#output a clean version of the csv file\n",
    "province_territory_population_dwelling_df.to_csv(\"clean_dataset/province_territory_population_dwelling_clean.csv\", index=False)"
   ]
  },
  {
   "cell_type": "markdown",
   "metadata": {},
   "source": [
    "### Double check the population_dwelling_df for incomplete rows"
   ]
  },
  {
   "cell_type": "code",
   "execution_count": 45,
   "metadata": {},
   "outputs": [
    {
     "data": {
      "text/plain": [
       "city                 1034\n",
       "abbrev               1034\n",
       "area_type            1034\n",
       "pop                  1034\n",
       "pop_density_sq_km    1034\n",
       "total_dwellings      1034\n",
       "land_area_sq_km      1034\n",
       "dtype: int64"
      ]
     },
     "execution_count": 45,
     "metadata": {},
     "output_type": "execute_result"
    }
   ],
   "source": [
    "#double check, there are no incomplete rows\n",
    "population_dwelling_df.count()"
   ]
  },
  {
   "cell_type": "markdown",
   "metadata": {},
   "source": [
    "### Export cleaned, population_dwelling_df DataFrame to csv with index reset"
   ]
  },
  {
   "cell_type": "code",
   "execution_count": 46,
   "metadata": {},
   "outputs": [],
   "source": [
    "#reset the index of the DataFrame \n",
    "population_dwelling_df = population_dwelling_df.reset_index(drop=True)\n",
    "\n",
    "#output a clean version of the csv file\n",
    "population_dwelling_df.to_csv(\"clean_dataset/population_dwelling_clean.csv\", index=False)"
   ]
  },
  {
   "cell_type": "markdown",
   "metadata": {},
   "source": [
    "# Merged House Lisiting and Population Dwelling on Cities"
   ]
  },
  {
   "cell_type": "code",
   "execution_count": 47,
   "metadata": {},
   "outputs": [
    {
     "data": {
      "text/html": [
       "<div>\n",
       "<style scoped>\n",
       "    .dataframe tbody tr th:only-of-type {\n",
       "        vertical-align: middle;\n",
       "    }\n",
       "\n",
       "    .dataframe tbody tr th {\n",
       "        vertical-align: top;\n",
       "    }\n",
       "\n",
       "    .dataframe thead th {\n",
       "        text-align: right;\n",
       "    }\n",
       "</style>\n",
       "<table border=\"1\" class=\"dataframe\">\n",
       "  <thead>\n",
       "    <tr style=\"text-align: right;\">\n",
       "      <th></th>\n",
       "      <th>city</th>\n",
       "      <th>abbrev</th>\n",
       "      <th>area_type</th>\n",
       "      <th>pop</th>\n",
       "      <th>pop_density_sq_km</th>\n",
       "      <th>total_dwellings</th>\n",
       "      <th>land_area_sq_km</th>\n",
       "      <th>province</th>\n",
       "      <th>population</th>\n",
       "      <th>median_income</th>\n",
       "      <th>lat</th>\n",
       "      <th>lon</th>\n",
       "      <th>address</th>\n",
       "      <th>price</th>\n",
       "      <th>beds</th>\n",
       "      <th>baths</th>\n",
       "    </tr>\n",
       "  </thead>\n",
       "  <tbody>\n",
       "    <tr>\n",
       "      <th>0</th>\n",
       "      <td>St. John's</td>\n",
       "      <td>NL</td>\n",
       "      <td>large urban</td>\n",
       "      <td>185565</td>\n",
       "      <td>1042.5</td>\n",
       "      <td>86189</td>\n",
       "      <td>178.0</td>\n",
       "      <td>Newfoundland and Labrador</td>\n",
       "      <td>185565</td>\n",
       "      <td>85000</td>\n",
       "      <td>47.4817</td>\n",
       "      <td>-52.7971</td>\n",
       "      <td>33 queens road</td>\n",
       "      <td>275000</td>\n",
       "      <td>4</td>\n",
       "      <td>1</td>\n",
       "    </tr>\n",
       "    <tr>\n",
       "      <th>1</th>\n",
       "      <td>St. John's</td>\n",
       "      <td>NL</td>\n",
       "      <td>large urban</td>\n",
       "      <td>185565</td>\n",
       "      <td>1042.5</td>\n",
       "      <td>86189</td>\n",
       "      <td>178.0</td>\n",
       "      <td>Newfoundland and Labrador</td>\n",
       "      <td>185565</td>\n",
       "      <td>85000</td>\n",
       "      <td>47.4817</td>\n",
       "      <td>-52.7971</td>\n",
       "      <td>70 julieann place</td>\n",
       "      <td>767500</td>\n",
       "      <td>4</td>\n",
       "      <td>4</td>\n",
       "    </tr>\n",
       "    <tr>\n",
       "      <th>2</th>\n",
       "      <td>St. John's</td>\n",
       "      <td>NL</td>\n",
       "      <td>large urban</td>\n",
       "      <td>185565</td>\n",
       "      <td>1042.5</td>\n",
       "      <td>86189</td>\n",
       "      <td>178.0</td>\n",
       "      <td>Newfoundland and Labrador</td>\n",
       "      <td>185565</td>\n",
       "      <td>85000</td>\n",
       "      <td>47.4817</td>\n",
       "      <td>-52.7971</td>\n",
       "      <td>5 ruth avenue</td>\n",
       "      <td>159900</td>\n",
       "      <td>3</td>\n",
       "      <td>1</td>\n",
       "    </tr>\n",
       "    <tr>\n",
       "      <th>3</th>\n",
       "      <td>St. John's</td>\n",
       "      <td>NL</td>\n",
       "      <td>large urban</td>\n",
       "      <td>185565</td>\n",
       "      <td>1042.5</td>\n",
       "      <td>86189</td>\n",
       "      <td>178.0</td>\n",
       "      <td>Newfoundland and Labrador</td>\n",
       "      <td>185565</td>\n",
       "      <td>85000</td>\n",
       "      <td>47.4817</td>\n",
       "      <td>-52.7971</td>\n",
       "      <td>11 parliament street</td>\n",
       "      <td>350000</td>\n",
       "      <td>4</td>\n",
       "      <td>3</td>\n",
       "    </tr>\n",
       "    <tr>\n",
       "      <th>4</th>\n",
       "      <td>St. John's</td>\n",
       "      <td>NL</td>\n",
       "      <td>large urban</td>\n",
       "      <td>185565</td>\n",
       "      <td>1042.5</td>\n",
       "      <td>86189</td>\n",
       "      <td>178.0</td>\n",
       "      <td>Newfoundland and Labrador</td>\n",
       "      <td>185565</td>\n",
       "      <td>85000</td>\n",
       "      <td>47.4817</td>\n",
       "      <td>-52.7971</td>\n",
       "      <td>84 gil eannes drive</td>\n",
       "      <td>424900</td>\n",
       "      <td>4</td>\n",
       "      <td>3</td>\n",
       "    </tr>\n",
       "  </tbody>\n",
       "</table>\n",
       "</div>"
      ],
      "text/plain": [
       "         city abbrev    area_type     pop  pop_density_sq_km  total_dwellings  \\\n",
       "0  St. John's     NL  large urban  185565             1042.5            86189   \n",
       "1  St. John's     NL  large urban  185565             1042.5            86189   \n",
       "2  St. John's     NL  large urban  185565             1042.5            86189   \n",
       "3  St. John's     NL  large urban  185565             1042.5            86189   \n",
       "4  St. John's     NL  large urban  185565             1042.5            86189   \n",
       "\n",
       "   land_area_sq_km                   province  population  median_income  \\\n",
       "0            178.0  Newfoundland and Labrador      185565          85000   \n",
       "1            178.0  Newfoundland and Labrador      185565          85000   \n",
       "2            178.0  Newfoundland and Labrador      185565          85000   \n",
       "3            178.0  Newfoundland and Labrador      185565          85000   \n",
       "4            178.0  Newfoundland and Labrador      185565          85000   \n",
       "\n",
       "       lat      lon               address   price  beds  baths  \n",
       "0  47.4817 -52.7971        33 queens road  275000     4      1  \n",
       "1  47.4817 -52.7971     70 julieann place  767500     4      4  \n",
       "2  47.4817 -52.7971         5 ruth avenue  159900     3      1  \n",
       "3  47.4817 -52.7971  11 parliament street  350000     4      3  \n",
       "4  47.4817 -52.7971   84 gil eannes drive  424900     4      3  "
      ]
     },
     "execution_count": 47,
     "metadata": {},
     "output_type": "execute_result"
    }
   ],
   "source": [
    "population_housing_merged = population_dwelling_df.merge(house_listing_df, on='city', how=\"inner\")\n",
    "population_housing_merged.head()"
   ]
  },
  {
   "cell_type": "markdown",
   "metadata": {},
   "source": [
    "### Deleting, renaming, and reordering columns"
   ]
  },
  {
   "cell_type": "code",
   "execution_count": 48,
   "metadata": {},
   "outputs": [],
   "source": [
    "#delete population column since we have pop column\n",
    "del population_housing_merged['population']"
   ]
  },
  {
   "cell_type": "code",
   "execution_count": 49,
   "metadata": {},
   "outputs": [
    {
     "data": {
      "text/html": [
       "<div>\n",
       "<style scoped>\n",
       "    .dataframe tbody tr th:only-of-type {\n",
       "        vertical-align: middle;\n",
       "    }\n",
       "\n",
       "    .dataframe tbody tr th {\n",
       "        vertical-align: top;\n",
       "    }\n",
       "\n",
       "    .dataframe thead th {\n",
       "        text-align: right;\n",
       "    }\n",
       "</style>\n",
       "<table border=\"1\" class=\"dataframe\">\n",
       "  <thead>\n",
       "    <tr style=\"text-align: right;\">\n",
       "      <th></th>\n",
       "      <th>city</th>\n",
       "      <th>province</th>\n",
       "      <th>abbrev</th>\n",
       "      <th>area_type</th>\n",
       "      <th>pop</th>\n",
       "      <th>pop_density_sq_km</th>\n",
       "      <th>total_dwellings</th>\n",
       "      <th>land_area_sq_km</th>\n",
       "      <th>median_income</th>\n",
       "      <th>lat</th>\n",
       "      <th>lon</th>\n",
       "      <th>address</th>\n",
       "      <th>price</th>\n",
       "      <th>beds</th>\n",
       "      <th>baths</th>\n",
       "    </tr>\n",
       "  </thead>\n",
       "  <tbody>\n",
       "    <tr>\n",
       "      <th>0</th>\n",
       "      <td>St. John's</td>\n",
       "      <td>Newfoundland and Labrador</td>\n",
       "      <td>NL</td>\n",
       "      <td>large urban</td>\n",
       "      <td>185565</td>\n",
       "      <td>1042.5</td>\n",
       "      <td>86189</td>\n",
       "      <td>178.0</td>\n",
       "      <td>85000</td>\n",
       "      <td>47.4817</td>\n",
       "      <td>-52.7971</td>\n",
       "      <td>33 queens road</td>\n",
       "      <td>275000</td>\n",
       "      <td>4</td>\n",
       "      <td>1</td>\n",
       "    </tr>\n",
       "    <tr>\n",
       "      <th>1</th>\n",
       "      <td>St. John's</td>\n",
       "      <td>Newfoundland and Labrador</td>\n",
       "      <td>NL</td>\n",
       "      <td>large urban</td>\n",
       "      <td>185565</td>\n",
       "      <td>1042.5</td>\n",
       "      <td>86189</td>\n",
       "      <td>178.0</td>\n",
       "      <td>85000</td>\n",
       "      <td>47.4817</td>\n",
       "      <td>-52.7971</td>\n",
       "      <td>70 julieann place</td>\n",
       "      <td>767500</td>\n",
       "      <td>4</td>\n",
       "      <td>4</td>\n",
       "    </tr>\n",
       "    <tr>\n",
       "      <th>2</th>\n",
       "      <td>St. John's</td>\n",
       "      <td>Newfoundland and Labrador</td>\n",
       "      <td>NL</td>\n",
       "      <td>large urban</td>\n",
       "      <td>185565</td>\n",
       "      <td>1042.5</td>\n",
       "      <td>86189</td>\n",
       "      <td>178.0</td>\n",
       "      <td>85000</td>\n",
       "      <td>47.4817</td>\n",
       "      <td>-52.7971</td>\n",
       "      <td>5 ruth avenue</td>\n",
       "      <td>159900</td>\n",
       "      <td>3</td>\n",
       "      <td>1</td>\n",
       "    </tr>\n",
       "    <tr>\n",
       "      <th>3</th>\n",
       "      <td>St. John's</td>\n",
       "      <td>Newfoundland and Labrador</td>\n",
       "      <td>NL</td>\n",
       "      <td>large urban</td>\n",
       "      <td>185565</td>\n",
       "      <td>1042.5</td>\n",
       "      <td>86189</td>\n",
       "      <td>178.0</td>\n",
       "      <td>85000</td>\n",
       "      <td>47.4817</td>\n",
       "      <td>-52.7971</td>\n",
       "      <td>11 parliament street</td>\n",
       "      <td>350000</td>\n",
       "      <td>4</td>\n",
       "      <td>3</td>\n",
       "    </tr>\n",
       "    <tr>\n",
       "      <th>4</th>\n",
       "      <td>St. John's</td>\n",
       "      <td>Newfoundland and Labrador</td>\n",
       "      <td>NL</td>\n",
       "      <td>large urban</td>\n",
       "      <td>185565</td>\n",
       "      <td>1042.5</td>\n",
       "      <td>86189</td>\n",
       "      <td>178.0</td>\n",
       "      <td>85000</td>\n",
       "      <td>47.4817</td>\n",
       "      <td>-52.7971</td>\n",
       "      <td>84 gil eannes drive</td>\n",
       "      <td>424900</td>\n",
       "      <td>4</td>\n",
       "      <td>3</td>\n",
       "    </tr>\n",
       "  </tbody>\n",
       "</table>\n",
       "</div>"
      ],
      "text/plain": [
       "         city                   province abbrev    area_type     pop  \\\n",
       "0  St. John's  Newfoundland and Labrador     NL  large urban  185565   \n",
       "1  St. John's  Newfoundland and Labrador     NL  large urban  185565   \n",
       "2  St. John's  Newfoundland and Labrador     NL  large urban  185565   \n",
       "3  St. John's  Newfoundland and Labrador     NL  large urban  185565   \n",
       "4  St. John's  Newfoundland and Labrador     NL  large urban  185565   \n",
       "\n",
       "   pop_density_sq_km  total_dwellings  land_area_sq_km  median_income  \\\n",
       "0             1042.5            86189            178.0          85000   \n",
       "1             1042.5            86189            178.0          85000   \n",
       "2             1042.5            86189            178.0          85000   \n",
       "3             1042.5            86189            178.0          85000   \n",
       "4             1042.5            86189            178.0          85000   \n",
       "\n",
       "       lat      lon               address   price  beds  baths  \n",
       "0  47.4817 -52.7971        33 queens road  275000     4      1  \n",
       "1  47.4817 -52.7971     70 julieann place  767500     4      4  \n",
       "2  47.4817 -52.7971         5 ruth avenue  159900     3      1  \n",
       "3  47.4817 -52.7971  11 parliament street  350000     4      3  \n",
       "4  47.4817 -52.7971   84 gil eannes drive  424900     4      3  "
      ]
     },
     "execution_count": 49,
     "metadata": {},
     "output_type": "execute_result"
    }
   ],
   "source": [
    "#reorder the columns\n",
    "population_housing_merged = population_housing_merged[[\n",
    "    \"city\",\"province\",\"abbrev\",\"area_type\",\"pop\",\"pop_density_sq_km\",\"total_dwellings\",\"land_area_sq_km\",\"median_income\",\n",
    "    \"lat\",\"lon\",\"address\",\"price\",\"beds\",\"baths\",\n",
    "]]\n",
    "population_housing_merged.head()"
   ]
  },
  {
   "cell_type": "markdown",
   "metadata": {},
   "source": [
    "### Checking how many cities are missing in merged DataFrame"
   ]
  },
  {
   "cell_type": "code",
   "execution_count": 50,
   "metadata": {},
   "outputs": [
    {
     "data": {
      "text/plain": [
       "1022"
      ]
     },
     "execution_count": 50,
     "metadata": {},
     "output_type": "execute_result"
    }
   ],
   "source": [
    "#population_dwelling dataframe has 1035 different cities\n",
    "population_dwelling_df['city'].nunique()"
   ]
  },
  {
   "cell_type": "code",
   "execution_count": 51,
   "metadata": {},
   "outputs": [
    {
     "data": {
      "text/plain": [
       "45"
      ]
     },
     "execution_count": 51,
     "metadata": {},
     "output_type": "execute_result"
    }
   ],
   "source": [
    "#house_listing dataframe has 45 different cities\n",
    "house_listing_df['city'].nunique()"
   ]
  },
  {
   "cell_type": "code",
   "execution_count": 52,
   "metadata": {},
   "outputs": [
    {
     "data": {
      "text/plain": [
       "42"
      ]
     },
     "execution_count": 52,
     "metadata": {},
     "output_type": "execute_result"
    }
   ],
   "source": [
    "#newly created population_housing_merged has 42 different cities\n",
    "population_housing_merged['city'].nunique()"
   ]
  },
  {
   "cell_type": "code",
   "execution_count": 53,
   "metadata": {},
   "outputs": [
    {
     "name": "stdout",
     "output_type": "stream",
     "text": [
      "{'Maple Ridge', 'Burnaby', 'New Westminster'}\n"
     ]
    }
   ],
   "source": [
    "#see what is cities are missing\n",
    "#get the unique city names from both DataFrames\n",
    "housing_cities = set(house_listing_df[\"city\"].unique())\n",
    "merged_cities = set(population_housing_merged['city'].unique())\n",
    "\n",
    "#find the cities in housing_df that are missing in cleaned_df\n",
    "missing_cities = housing_cities - merged_cities \n",
    "\n",
    "#to see the result\n",
    "print(missing_cities)"
   ]
  },
  {
   "cell_type": "markdown",
   "metadata": {},
   "source": [
    "### Checking for missing values, nulls, data type and duplicates in merged DataFrame"
   ]
  },
  {
   "cell_type": "code",
   "execution_count": 54,
   "metadata": {},
   "outputs": [
    {
     "data": {
      "text/plain": [
       "city                 30143\n",
       "province             30143\n",
       "abbrev               30143\n",
       "area_type            30143\n",
       "pop                  30143\n",
       "pop_density_sq_km    30143\n",
       "total_dwellings      30143\n",
       "land_area_sq_km      30143\n",
       "median_income        30143\n",
       "lat                  30143\n",
       "lon                  30143\n",
       "address              30143\n",
       "price                30143\n",
       "beds                 30143\n",
       "baths                30143\n",
       "dtype: int64"
      ]
     },
     "execution_count": 54,
     "metadata": {},
     "output_type": "execute_result"
    }
   ],
   "source": [
    "#there are no incomplete rows\n",
    "population_housing_merged.count()"
   ]
  },
  {
   "cell_type": "code",
   "execution_count": 55,
   "metadata": {},
   "outputs": [
    {
     "data": {
      "text/plain": [
       "False"
      ]
     },
     "execution_count": 55,
     "metadata": {},
     "output_type": "execute_result"
    }
   ],
   "source": [
    "#check for null values in population_housing_merged\n",
    "population_housing_merged.isnull().values.any()"
   ]
  },
  {
   "cell_type": "code",
   "execution_count": 56,
   "metadata": {},
   "outputs": [
    {
     "data": {
      "text/plain": [
       "city                  object\n",
       "province              object\n",
       "abbrev                object\n",
       "area_type             object\n",
       "pop                    int64\n",
       "pop_density_sq_km    float64\n",
       "total_dwellings        int64\n",
       "land_area_sq_km      float64\n",
       "median_income          int64\n",
       "lat                  float64\n",
       "lon                  float64\n",
       "address               object\n",
       "price                  int64\n",
       "beds                   int64\n",
       "baths                  int64\n",
       "dtype: object"
      ]
     },
     "execution_count": 56,
     "metadata": {},
     "output_type": "execute_result"
    }
   ],
   "source": [
    "#check data types\n",
    "population_housing_merged.dtypes"
   ]
  },
  {
   "cell_type": "code",
   "execution_count": 57,
   "metadata": {},
   "outputs": [
    {
     "name": "stdout",
     "output_type": "stream",
     "text": [
      "No duplicate rows found.\n"
     ]
    }
   ],
   "source": [
    "# Check for duplicates\n",
    "duplicates = population_housing_merged.duplicated()\n",
    "\n",
    "# Display the duplicate rows\n",
    "duplicate_rows = population_housing_merged[duplicates]\n",
    "\n",
    "# Show the duplicate rows if there are any\n",
    "if not duplicate_rows.empty:\n",
    "    print(\"Duplicate Rows:\")\n",
    "    print(duplicate_rows)\n",
    "else:\n",
    "    print(\"No duplicate rows found.\")\n"
   ]
  },
  {
   "cell_type": "markdown",
   "metadata": {},
   "source": [
    "### Export population_housing_merged DataFrame to csv with reset index"
   ]
  },
  {
   "cell_type": "code",
   "execution_count": 58,
   "metadata": {},
   "outputs": [],
   "source": [
    "#reset the index of the DataFrame \n",
    "population_housing_merged = population_housing_merged.reset_index(drop=True)"
   ]
  },
  {
   "cell_type": "code",
   "execution_count": 59,
   "metadata": {},
   "outputs": [],
   "source": [
    "#output a clean version of the csv file\n",
    "population_housing_merged.to_csv(\"clean_dataset/population_housing_merged_clean.csv\", index=False)"
   ]
  }
 ],
 "metadata": {
  "kernelspec": {
   "display_name": "dev",
   "language": "python",
   "name": "python3"
  },
  "language_info": {
   "codemirror_mode": {
    "name": "ipython",
    "version": 3
   },
   "file_extension": ".py",
   "mimetype": "text/x-python",
   "name": "python",
   "nbconvert_exporter": "python",
   "pygments_lexer": "ipython3",
   "version": "3.10.14"
  }
 },
 "nbformat": 4,
 "nbformat_minor": 2
}
